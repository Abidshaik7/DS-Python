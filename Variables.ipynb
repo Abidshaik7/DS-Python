{
 "cells": [
  {
   "cell_type": "code",
   "execution_count": 13,
   "id": "3ae33c17-0e5f-4715-87c3-220a0259492a",
   "metadata": {},
   "outputs": [
    {
     "name": "stdout",
     "output_type": "stream",
     "text": [
      "25\n",
      "999\n",
      "True\n",
      "Abid\n",
      "99\n",
      "7\n",
      "72\n",
      "/home/user/documents/file.txt\n",
      "42\n",
      "15\n",
      "ORD123456\n",
      "False\n",
      "['Laptop', 'Mouse', 'Keyboard']\n",
      "2024-08-07\n",
      "2024-08-14\n",
      "abcd@gmail.com\n",
      "789\n",
      "['blue', 'black', 'red']\n",
      "['mein kampf', 'you can']\n",
      "Logged out\n"
     ]
    }
   ],
   "source": [
    "#Python variable names must follow these rules:\n",
    "#Start with a letter or an underscore (_): Variable names cannot begin with a digit.\n",
    "#Followed by letters, digits, or underscores: Variable names can include letters (a-z, A-Z), digits (0-9), and underscores (_).\n",
    "#Case-sensitive: variable, Variable, and VARIABLE are considered different variables.\n",
    "#Cannot be a reserved keyword: Keywords like if, else, while, class, etc., cannot be used as variable names.\n",
    "#Examples of valid variable names:\n",
    "my_age = 25\n",
    "total_price = 999\n",
    "isprime = True\n",
    "user_name = \"Abid\"\n",
    "max_value_ = 99\n",
    "_min_value = 7\n",
    "temperature = 72\n",
    "file_path = \"/home/user/documents/file.txt\"\n",
    "items_count = 42\n",
    "discount = 15\n",
    "order_id = \"ORD123456\"\n",
    "is_valid = False\n",
    "product_list = [\"Laptop\", \"Mouse\", \"Keyboard\"]\n",
    "date = \"2024-08-07\"\n",
    "_date2 = \"2024-08-14\"\n",
    "myemail = \"abcd@gmail.com\"\n",
    "user_id = 789\n",
    "pen = [\"blue\",\"black\",\"red\"]\n",
    "books = [\"mein kampf\",\"you can\"]\n",
    "login_status = \"Logged out\"\n",
    "\n",
    "#print the values of the variables\n",
    "print(my_age)\n",
    "print(total_price)\n",
    "print(isprime)\n",
    "print(user_name)\n",
    "print(max_value)\n",
    "print(_min_value)\n",
    "print(temperature)\n",
    "print(file_path)\n",
    "print(items_count)\n",
    "print(discount)\n",
    "print(order_id)\n",
    "print(is_valid)\n",
    "print(product_list)\n",
    "print(date)\n",
    "print(_date2)\n",
    "print(myemail)\n",
    "print(user_id)\n",
    "print(pen)\n",
    "print(books)\n",
    "print(login_status)\n"
   ]
  },
  {
   "cell_type": "code",
   "execution_count": 17,
   "id": "b8104085-3d6a-4cc6-a779-4988257d25db",
   "metadata": {},
   "outputs": [
    {
     "ename": "SyntaxError",
     "evalue": "invalid decimal literal (501175078.py, line 2)",
     "output_type": "error",
     "traceback": [
      "\u001b[1;36m  Cell \u001b[1;32mIn[17], line 2\u001b[1;36m\u001b[0m\n\u001b[1;33m    2nd_variable\u001b[0m\n\u001b[1;37m    ^\u001b[0m\n\u001b[1;31mSyntaxError\u001b[0m\u001b[1;31m:\u001b[0m invalid decimal literal\n"
     ]
    }
   ],
   "source": [
    "#In Python, variable names must follow certain rules to be considered valid. Invalid variable names typically break these rules.\n",
    "2nd_variable\n",
    "variable-name\n",
    "user name\n",
    "total$amount\n",
    "if #keywords cant be used as variable names.\n",
    "while\n",
    "1234id\n",
    "for\n",
    "@books\n",
    "var!id\n",
    "password\n",
    "my_variable@\n",
    "3variable\n",
    "False\n",
    "None\n",
    "name(2)\n",
    "return\n",
    "print@\n",
    "variable#name\n",
    "login&\n"
   ]
  },
  {
   "cell_type": "code",
   "execution_count": null,
   "id": "eec2b59b-1ee1-438b-b5fd-31153518355e",
   "metadata": {},
   "outputs": [],
   "source": []
  }
 ],
 "metadata": {
  "kernelspec": {
   "display_name": "Python 3 (ipykernel)",
   "language": "python",
   "name": "python3"
  },
  "language_info": {
   "codemirror_mode": {
    "name": "ipython",
    "version": 3
   },
   "file_extension": ".py",
   "mimetype": "text/x-python",
   "name": "python",
   "nbconvert_exporter": "python",
   "pygments_lexer": "ipython3",
   "version": "3.12.4"
  }
 },
 "nbformat": 4,
 "nbformat_minor": 5
}
