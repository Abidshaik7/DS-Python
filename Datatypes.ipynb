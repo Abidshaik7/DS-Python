{
 "cells": [
  {
   "cell_type": "code",
   "execution_count": 61,
   "id": "7c7ab791-7b27-4f20-94fa-a75da39f943f",
   "metadata": {},
   "outputs": [
    {
     "name": "stdout",
     "output_type": "stream",
     "text": [
      "2 <class 'int'>\n",
      "5.8 <class 'float'>\n",
      "8j <class 'complex'>\n"
     ]
    }
   ],
   "source": [
    "#Datatypes\n",
    "x=2\n",
    "y=5.8\n",
    "z=2j+6j\n",
    "print(x,type(x))\n",
    "print(y,type(y))\n",
    "print(z,type(z))"
   ]
  },
  {
   "cell_type": "code",
   "execution_count": 62,
   "id": "2b20736b-ced3-4216-af02-775769ce408f",
   "metadata": {},
   "outputs": [
    {
     "name": "stdout",
     "output_type": "stream",
     "text": [
      "6 <class 'int'>\n",
      "78 <class 'int'>\n",
      "-67 <class 'int'>\n",
      "5678 <class 'int'>\n",
      "0 <class 'int'>\n"
     ]
    }
   ],
   "source": [
    "#integer datatype\n",
    "a=6\n",
    "f=78\n",
    "t=-67\n",
    "u=5678\n",
    "v=0\n",
    "print(a,type(a))\n",
    "print(f,type(f))\n",
    "print(t,type(t))\n",
    "print(u,type(u))\n",
    "print(v,type(v))"
   ]
  },
  {
   "cell_type": "code",
   "execution_count": 63,
   "id": "d1ec9a66-9b09-4aa1-a738-da428b97ba0a",
   "metadata": {},
   "outputs": [
    {
     "name": "stdout",
     "output_type": "stream",
     "text": [
      "7.8 <class 'float'>\n",
      "-98.0 <class 'float'>\n",
      "67.0 <class 'float'>\n",
      "5.67 <class 'float'>\n",
      "0.0 <class 'float'>\n"
     ]
    }
   ],
   "source": [
    "#float datatype\n",
    "x=7.8\n",
    "y=-98.0\n",
    "z=67.0\n",
    "a=5.67\n",
    "b=0.0\n",
    "print(x,type(x))\n",
    "print(y,type(y))\n",
    "print(z,type(z))\n",
    "print(a,type(a))\n",
    "print(b,type(b))"
   ]
  },
  {
   "cell_type": "code",
   "execution_count": 64,
   "id": "3eabda95-cb10-4742-b7d8-e4cccccfc83e",
   "metadata": {},
   "outputs": [
    {
     "name": "stdout",
     "output_type": "stream",
     "text": [
      "-5j <class 'complex'>\n",
      "-45j <class 'complex'>\n",
      "36j <class 'complex'>\n",
      "5.78j <class 'complex'>\n",
      "100j <class 'complex'>\n"
     ]
    }
   ],
   "source": [
    "#Complex datatype\n",
    "a=2j-7j\n",
    "b=0j-45j\n",
    "c=12j*3\n",
    "d=0j+5.78j\n",
    "e=64j+36j\n",
    "print(a,type(a))\n",
    "print(b,type(b))\n",
    "print(c,type(c))\n",
    "print(d,type(d))\n",
    "print(e,type(e))"
   ]
  },
  {
   "cell_type": "code",
   "execution_count": 65,
   "id": "c07b7759-a856-4131-ae07-027dc5aa24ae",
   "metadata": {},
   "outputs": [
    {
     "name": "stdout",
     "output_type": "stream",
     "text": [
      "23.0\n",
      "0.0\n",
      "-37.0\n",
      "1787.0\n",
      "-2.0\n"
     ]
    }
   ],
   "source": [
    "#data Conversions\n",
    "#int to float\n",
    "a=23\n",
    "b=0\n",
    "c=-37\n",
    "d=1787\n",
    "e=-2\n",
    "print(float(a))\n",
    "print(float(b))\n",
    "print(float(c))\n",
    "print(float(d))\n",
    "print(float(e))"
   ]
  },
  {
   "cell_type": "code",
   "execution_count": 66,
   "id": "a0007024-b76f-4ca4-928d-a421e789ff13",
   "metadata": {},
   "outputs": [
    {
     "name": "stdout",
     "output_type": "stream",
     "text": [
      "3\n",
      "0\n",
      "-2\n",
      "89\n",
      "-3\n"
     ]
    }
   ],
   "source": [
    "#float to int\n",
    "x=3.4\n",
    "y=0.0\n",
    "z=-2.48\n",
    "t=89.0\n",
    "i=-3.4\n",
    "print(int(x))\n",
    "print(int(y))\n",
    "print(int(z))\n",
    "print(int(t))\n",
    "print(int(i))"
   ]
  },
  {
   "cell_type": "code",
   "execution_count": 67,
   "id": "c9ad65ac-b208-44af-8d01-cc02bc5e1c5f",
   "metadata": {},
   "outputs": [
    {
     "name": "stdout",
     "output_type": "stream",
     "text": [
      "(34+0j)\n",
      "0j\n",
      "(-78+0j)\n",
      "(5476+0j)\n",
      "(-98+0j)\n"
     ]
    }
   ],
   "source": [
    "#int to complex\n",
    "a=34\n",
    "b=0\n",
    "c=-78\n",
    "d=5476\n",
    "e=-98\n",
    "print(complex(a))\n",
    "print(complex(b))\n",
    "print(complex(c))\n",
    "print(complex(d))\n",
    "print(complex(e))"
   ]
  },
  {
   "cell_type": "code",
   "execution_count": 68,
   "id": "310a7db1-86d4-46bc-b060-9e29a71ba574",
   "metadata": {},
   "outputs": [
    {
     "name": "stdout",
     "output_type": "stream",
     "text": [
      "0j\n",
      "(2.89+0j)\n",
      "(-7.7+0j)\n",
      "(-56.89+0j)\n",
      "(7.9+0j)\n"
     ]
    }
   ],
   "source": [
    "#float to complex\n",
    "x=0.0\n",
    "y=2.89\n",
    "z=-7.7\n",
    "p=-56.89\n",
    "q=7.9\n",
    "print(complex(x))\n",
    "print(complex(y))\n",
    "print(complex(z))\n",
    "print(complex(p))\n",
    "print(complex(q))"
   ]
  },
  {
   "cell_type": "code",
   "execution_count": 69,
   "id": "9adbc342-5736-45cd-8fbb-96f790c3390d",
   "metadata": {},
   "outputs": [
    {
     "name": "stdout",
     "output_type": "stream",
     "text": [
      "<class 'complex'>\n"
     ]
    },
    {
     "ename": "TypeError",
     "evalue": "int() argument must be a string, a bytes-like object or a real number, not 'complex'",
     "output_type": "error",
     "traceback": [
      "\u001b[1;31m---------------------------------------------------------------------------\u001b[0m",
      "\u001b[1;31mTypeError\u001b[0m                                 Traceback (most recent call last)",
      "Cell \u001b[1;32mIn[69], line 4\u001b[0m\n\u001b[0;32m      2\u001b[0m a\u001b[38;5;241m=\u001b[39m\u001b[38;5;241m9\u001b[39m\u001b[38;5;241m+\u001b[39m\u001b[38;5;241m8\u001b[39mj\n\u001b[0;32m      3\u001b[0m \u001b[38;5;28mprint\u001b[39m(\u001b[38;5;28mtype\u001b[39m(a))\n\u001b[1;32m----> 4\u001b[0m \u001b[38;5;28mprint\u001b[39m(\u001b[38;5;28mint\u001b[39m(a))\n\u001b[0;32m      5\u001b[0m \u001b[38;5;28mprint\u001b[39m(\u001b[38;5;28mfloat\u001b[39m(a))\n",
      "\u001b[1;31mTypeError\u001b[0m: int() argument must be a string, a bytes-like object or a real number, not 'complex'"
     ]
    }
   ],
   "source": [
    "#Complex can't be converted into integer or float.\n",
    "a=9+8j\n",
    "print(type(a))\n",
    "print(int(a))\n",
    "print(float(a))\n"
   ]
  },
  {
   "cell_type": "code",
   "execution_count": 96,
   "id": "6d262fa0-7c6a-49ed-be79-263071b3b42f",
   "metadata": {},
   "outputs": [
    {
     "name": "stdout",
     "output_type": "stream",
     "text": [
      "True <class 'bool'>\n",
      "True <class 'bool'>\n",
      "False <class 'bool'>\n",
      "False <class 'bool'>\n",
      "True <class 'bool'>\n",
      "False\n",
      "True\n",
      "True\n",
      "True\n",
      "False\n",
      "False\n"
     ]
    }
   ],
   "source": [
    "#boolean datatype\n",
    "x=(2>0.7)\n",
    "print(x,type(x))\n",
    "y=(3!=97)\n",
    "print(y,type(y))\n",
    "z=(-78>8)\n",
    "print(z,type(z))\n",
    "a= (2==76)\n",
    "print(a,type(a))\n",
    "b=(25==25)\n",
    "print(b,type(b))\n",
    "\n",
    "#Boolean function\n",
    "print(bool(0))\n",
    "print(bool(1))\n",
    "print(bool(\"hello\"))\n",
    "print(bool([\"football\",\"cricket\",\"javelin\"]))\n",
    "print(bool(()))\n",
    "print(bool(False))"
   ]
  },
  {
   "cell_type": "code",
   "execution_count": null,
   "id": "c1be8cec-618b-470a-b381-8b4266799eb5",
   "metadata": {},
   "outputs": [],
   "source": []
  }
 ],
 "metadata": {
  "kernelspec": {
   "display_name": "Python 3 (ipykernel)",
   "language": "python",
   "name": "python3"
  },
  "language_info": {
   "codemirror_mode": {
    "name": "ipython",
    "version": 3
   },
   "file_extension": ".py",
   "mimetype": "text/x-python",
   "name": "python",
   "nbconvert_exporter": "python",
   "pygments_lexer": "ipython3",
   "version": "3.12.4"
  }
 },
 "nbformat": 4,
 "nbformat_minor": 5
}
